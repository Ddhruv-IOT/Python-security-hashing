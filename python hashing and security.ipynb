{
 "cells": [
  {
   "cell_type": "code",
   "execution_count": 1,
   "id": "3e682b5a",
   "metadata": {},
   "outputs": [],
   "source": [
    "import hashlib"
   ]
  },
  {
   "cell_type": "code",
   "execution_count": 2,
   "id": "747b04ee",
   "metadata": {},
   "outputs": [
    {
     "data": {
      "text/plain": [
       "['__all__',\n",
       " '__block_openssl_constructor',\n",
       " '__builtin_constructor_cache',\n",
       " '__builtins__',\n",
       " '__cached__',\n",
       " '__doc__',\n",
       " '__file__',\n",
       " '__get_builtin_constructor',\n",
       " '__loader__',\n",
       " '__name__',\n",
       " '__package__',\n",
       " '__spec__',\n",
       " '_hashlib',\n",
       " 'algorithms_available',\n",
       " 'algorithms_guaranteed',\n",
       " 'blake2b',\n",
       " 'blake2s',\n",
       " 'md5',\n",
       " 'new',\n",
       " 'pbkdf2_hmac',\n",
       " 'scrypt',\n",
       " 'sha1',\n",
       " 'sha224',\n",
       " 'sha256',\n",
       " 'sha384',\n",
       " 'sha3_224',\n",
       " 'sha3_256',\n",
       " 'sha3_384',\n",
       " 'sha3_512',\n",
       " 'sha512',\n",
       " 'shake_128',\n",
       " 'shake_256']"
      ]
     },
     "execution_count": 2,
     "metadata": {},
     "output_type": "execute_result"
    }
   ],
   "source": [
    "dir(hashlib)"
   ]
  },
  {
   "cell_type": "code",
   "execution_count": 3,
   "id": "0f04d93e",
   "metadata": {},
   "outputs": [],
   "source": [
    "text = \"Hello, How are you ?\""
   ]
  },
  {
   "cell_type": "markdown",
   "id": "b285eb4d",
   "metadata": {},
   "source": [
    "# Hashing String Using MD5 "
   ]
  },
  {
   "cell_type": "code",
   "execution_count": 4,
   "id": "d10e491a",
   "metadata": {},
   "outputs": [],
   "source": [
    "md5_hash_obj = hashlib.md5(text.encode())"
   ]
  },
  {
   "cell_type": "code",
   "execution_count": 5,
   "id": "67f0e678",
   "metadata": {},
   "outputs": [
    {
     "name": "stdout",
     "output_type": "stream",
     "text": [
      "The byte equivalent of MD5 hash is: \n",
      "b'\\xab\\xe6\\x0c\\xcb\\x88\\xf1\\xa8\\x0c\\x01\\xf6\\x96}\\xdbu\\xd3\\xe5'\n"
     ]
    }
   ],
   "source": [
    "print( f\"The byte equivalent of MD5 hash is: \\n{md5_hash_obj.digest()}\")"
   ]
  },
  {
   "cell_type": "markdown",
   "id": "c1a646cd",
   "metadata": {},
   "source": [
    "# Hashing String Using SHA1"
   ]
  },
  {
   "cell_type": "code",
   "execution_count": 6,
   "id": "77235a50",
   "metadata": {},
   "outputs": [],
   "source": [
    "sha1_hash_obj = hashlib.sha1(text.encode())"
   ]
  },
  {
   "cell_type": "code",
   "execution_count": 7,
   "id": "9da636ed",
   "metadata": {},
   "outputs": [
    {
     "name": "stdout",
     "output_type": "stream",
     "text": [
      "The byte equivalent of SHA1 hash is: \n",
      "b'\\\\\\xf9e\\xe5U\\x96\\xc3\\xf4c\\xb9\\x83\\xe9\\xf8\\xf5\\xf7\\x83\\xb2\\xf9\\x8f\\xd0'\n"
     ]
    }
   ],
   "source": [
    "print( f\"The byte equivalent of SHA1 hash is: \\n{sha1_hash_obj.digest()}\")"
   ]
  },
  {
   "cell_type": "markdown",
   "id": "83cbb268",
   "metadata": {},
   "source": [
    "# Hashing String Using SHA224"
   ]
  },
  {
   "cell_type": "code",
   "execution_count": 8,
   "id": "bd753b34",
   "metadata": {},
   "outputs": [],
   "source": [
    "sha224_hash_obj = hashlib.sha224(text.encode())"
   ]
  },
  {
   "cell_type": "code",
   "execution_count": 9,
   "id": "1e02ff0f",
   "metadata": {},
   "outputs": [
    {
     "name": "stdout",
     "output_type": "stream",
     "text": [
      "The byte equivalent of SHA224 hash is: \n",
      "b'\\xf8\\x8e\\xb6nc\\xbdP\\xd0\\x95\\xd70\\x83r\\xd3\\xec\\xf5z\\xa0\\xdd\\xb1\\xb4\\x14`H\\xe3V\\xd5j'\n"
     ]
    }
   ],
   "source": [
    "print( f\"The byte equivalent of SHA224 hash is: \\n{sha224_hash_obj.digest()}\")"
   ]
  },
  {
   "cell_type": "markdown",
   "id": "8939a778",
   "metadata": {},
   "source": [
    "# Hashing String Using SHA256"
   ]
  },
  {
   "cell_type": "code",
   "execution_count": 10,
   "id": "e1df5ae3",
   "metadata": {},
   "outputs": [],
   "source": [
    "sha256_hash_obj = hashlib.sha256(text.encode())"
   ]
  },
  {
   "cell_type": "code",
   "execution_count": 11,
   "id": "e1623e21",
   "metadata": {},
   "outputs": [
    {
     "name": "stdout",
     "output_type": "stream",
     "text": [
      "The byte equivalent of SHA256 hash is: \n",
      "b'\\x9f\\xc4\\xe6cx\\xa0\\x9b\\xc6\\xae\\xc6,\\x81\\xf3\\x81\\xb4\\xab\\xd0o\\xd2:\\xaf\\x9c.7\\x0b\\xcb\\xaaY\\xcc\\x87B\\xde'\n"
     ]
    }
   ],
   "source": [
    "print( f\"The byte equivalent of SHA256 hash is: \\n{sha256_hash_obj.digest()}\")"
   ]
  },
  {
   "cell_type": "markdown",
   "id": "b39cfac8",
   "metadata": {},
   "source": [
    "# SALTING AND ITERARTION"
   ]
  },
  {
   "cell_type": "code",
   "execution_count": 12,
   "id": "785b6642",
   "metadata": {},
   "outputs": [],
   "source": [
    "import uuid"
   ]
  },
  {
   "cell_type": "code",
   "execution_count": 13,
   "id": "d538c702",
   "metadata": {},
   "outputs": [],
   "source": [
    "salt = uuid.uuid4().hex"
   ]
  },
  {
   "cell_type": "code",
   "execution_count": 14,
   "id": "dd2ad043",
   "metadata": {},
   "outputs": [],
   "source": [
    "hash_pwd_1_obj = hashlib.sha512((salt + text).encode())"
   ]
  },
  {
   "cell_type": "code",
   "execution_count": 15,
   "id": "bd8a70a3",
   "metadata": {},
   "outputs": [],
   "source": [
    "hash1 = hash_pwd_1_obj.digest()"
   ]
  },
  {
   "cell_type": "code",
   "execution_count": 16,
   "id": "f7922e8b",
   "metadata": {},
   "outputs": [
    {
     "name": "stdout",
     "output_type": "stream",
     "text": [
      "The byte equivalent of SHA512 hash is: \n",
      "b'\\x02Qe\\xb5N\\xc0\\x90\\xe4uav\\xd0\\xc5\\x16\\xc2\\x01\\t\\x0b\\x9e\\xbc {\\x08>O\\xf6\\xf4\\xbb\\xd8\\x01@G\\x1d0\\xb9A:\\x08x\\x13\\x8cj%\\x04!\\xb56i\\xb2\\xa4jw\\x99\\x11\\xc5\\x01\\xcaNl\\xeb\\xc4r\\xd1^'\n"
     ]
    }
   ],
   "source": [
    "print( f\"The byte equivalent of SHA512 hash is: \\n{hash1}\")"
   ]
  },
  {
   "cell_type": "code",
   "execution_count": 17,
   "id": "a1005047",
   "metadata": {},
   "outputs": [
    {
     "name": "stdout",
     "output_type": "stream",
     "text": [
      "Hash 0 --> b'\\xe4\\xfe\\xb7\\xdf\\xe2,\\x80i.P\\x9e\\x96k\\x8bQj\\xe0n\\xa8\\xe4\\x9e\\xf4E/\\x1f/\\xb6\"\\x1fx\\xcbO8\\xfb%,T\\xf2\\xc8\\xa7\\xe3\\xaan\\xc3t;|\\x03OsYP*3m\\x0b2\\x93\\x1d\\x15\\x93\\x89\\xd2\\xfd' \n",
      "\n",
      "Hash 1 --> b'V\\xbd\\x81\\xc0\\xb6*\\x8c`\\x97\\xa3\\xc5!\\x8f\\x075\\xd4\\x84\\xc0\\x85\\x93 \\x00\\\\\\x94\\x90\\x86\\xaf)oi\\x0c\\xa4\\xa9\\xedD\\xb9\\xad\\xba\\xea\\x9dT\\x93k\\xfe\\xf3\\xdd\\xfc\\xc7\\x18\\xb0S\\xd0\\xf2G\\x15;\\x0e\\xa3\\xd3\\xbe\\xcf:\\xbc\\xfc' \n",
      "\n",
      "Hash 2 --> b'\\x0b\\x83\\xdaM\\xb8\\xa6\\xcc\\xb8Ms\\xf7*\\xdd\\xaaK\\xcd\\xf6W|~\\x83L\\xd8\\xd3\\xc8\\x8a\\xd3\\x08*G\\xc8/YG\\xfd-\\xc7\\xce\\xa9\\x99\\x15\\xffsL\\x9e\\xf5YC\\x91^u\\xce\\x07x\\x86\\xd1\\xe0\\xfa\\xc43\\xfc~\\x8f\\xfc' \n",
      "\n",
      "Hash 3 --> b'\\xeb\\x1a\\xb6\\xdc,\\xdfv\\xf7\\xe8^\\x94\\xe8\\x14\\xfb\\x86\\x87i\\xfd\\xd29\\x06r\\n0\\xcf\\xb7\\xcdO\\xb4\\xb8\\x96f-7\\xb5\\x03\\xedq\\xb69\\xb7\\xad\\xbd\\x89\\xc7=Mc\\xa0A\\x12\\xe2K\\xb5\\xdd\\x82&b\\xc1\\xe7\\xb7f\\t\\xd7' \n",
      "\n",
      "Hash 4 --> b'\\tWP\\xf2\\xa09\\xb7)\\x1c\\xcf\\x05\\xb4S\\x0cO\\xc9v~\\x81\\x98\\x80\\xc7{\\x81H\\x8d \\xac\\x92{{L\\xdb\\xaf\\xb9\\x83\\xf2\\xf9\\x9a\\xd4\\xfa\\xd1\\xc5\\xd6)\\x0fee\\x84\\x152\\xd8\\x9b\\xa0J\\x16\\x99\\x1a\\xf8\\x9f\\xf6\\xe7e`' \n",
      "\n"
     ]
    }
   ],
   "source": [
    "hash_pwd = hash_pwd_1_obj\n",
    "\n",
    "for i in range(5):\n",
    "    hash_pwd1  = hashlib.sha512(hash_pwd.digest())\n",
    "    hash_pwd = hash_pwd1\n",
    "    print(f\"Hash {i} --> {hash_pwd.digest()} \\n\")"
   ]
  },
  {
   "cell_type": "code",
   "execution_count": 18,
   "id": "829a4dbd",
   "metadata": {},
   "outputs": [
    {
     "name": "stdout",
     "output_type": "stream",
     "text": [
      "Done\n"
     ]
    }
   ],
   "source": [
    "print(\"Done\")"
   ]
  },
  {
   "cell_type": "code",
   "execution_count": null,
   "id": "6b48f657",
   "metadata": {},
   "outputs": [],
   "source": []
  }
 ],
 "metadata": {
  "kernelspec": {
   "display_name": "Python 3",
   "language": "python",
   "name": "python3"
  },
  "language_info": {
   "codemirror_mode": {
    "name": "ipython",
    "version": 3
   },
   "file_extension": ".py",
   "mimetype": "text/x-python",
   "name": "python",
   "nbconvert_exporter": "python",
   "pygments_lexer": "ipython3",
   "version": "3.8.8"
  }
 },
 "nbformat": 4,
 "nbformat_minor": 5
}
